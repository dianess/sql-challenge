{
 "cells": [
  {
   "cell_type": "markdown",
   "metadata": {},
   "source": [
    "# Using sqlalchemy for one bonus question \n",
    "# in sql-challenge"
   ]
  },
  {
   "cell_type": "code",
   "execution_count": 92,
   "metadata": {},
   "outputs": [
    {
     "data": {
      "text/plain": [
       "'1.3.1'"
      ]
     },
     "execution_count": 92,
     "metadata": {},
     "output_type": "execute_result"
    }
   ],
   "source": [
    "# Check that sqlalchemy is installed and which version is on this computer\n",
    "import sqlalchemy\n",
    "sqlalchemy.__version__"
   ]
  },
  {
   "cell_type": "code",
   "execution_count": 98,
   "metadata": {},
   "outputs": [],
   "source": [
    "# Import Matplot lib\n",
    "import matplotlib\n",
    "import matplotlib.pyplot as pyplot\n",
    "from matplotlib import style\n",
    "style.use('seaborn')\n",
    "\n",
    "# OtherDependencies\n",
    "import numpy as np\n",
    "import pandas as pd\n",
    "import psycopg2\n",
    "from sqlalchemy import create_engine, inspect, func\n",
    "from sqlalchemy.ext.automap import automap_base\n",
    "from sqlalchemy.orm import Session"
   ]
  },
  {
   "cell_type": "code",
   "execution_count": 94,
   "metadata": {},
   "outputs": [
    {
     "data": {
      "text/plain": [
       "'2.8.3 (dt dec pq3 ext lo64)'"
      ]
     },
     "execution_count": 94,
     "metadata": {},
     "output_type": "execute_result"
    }
   ],
   "source": [
    "# Check that psychopg2 is installed and which version is on this computer\n",
    "psycopg2.__version__"
   ]
  },
  {
   "cell_type": "code",
   "execution_count": 104,
   "metadata": {},
   "outputs": [],
   "source": [
    "from config import user_password"
   ]
  },
  {
   "cell_type": "code",
   "execution_count": 64,
   "metadata": {},
   "outputs": [],
   "source": [
    "# Create an engine for the 'EmployeeSQL' database\n",
    "engine = create_engine('postgresql://' + user_password + '@localhost:5432/EmployeeSQL')"
   ]
  },
  {
   "cell_type": "code",
   "execution_count": 65,
   "metadata": {},
   "outputs": [],
   "source": [
    "# Create a connection\n",
    "connection = engine.connect()"
   ]
  },
  {
   "cell_type": "code",
   "execution_count": 66,
   "metadata": {},
   "outputs": [
    {
     "data": {
      "text/plain": [
       "['employees',\n",
       " 'dept_manager',\n",
       " 'salaries',\n",
       " 'titles',\n",
       " 'departments',\n",
       " 'dept_emp',\n",
       " 'customer']"
      ]
     },
     "execution_count": 66,
     "metadata": {},
     "output_type": "execute_result"
    }
   ],
   "source": [
    "# Use the Inspector to explore the database and print the table names\n",
    "inspector = inspect(engine)\n",
    "inspector.get_table_names()"
   ]
  },
  {
   "cell_type": "code",
   "execution_count": 69,
   "metadata": {},
   "outputs": [
    {
     "name": "stdout",
     "output_type": "stream",
     "text": [
      "emp_no BIGINT\n",
      "salary BIGINT\n",
      "from_date DATE\n",
      "to_date DATE\n"
     ]
    }
   ],
   "source": [
    "# Use Inspector to print the column names and types\n",
    "columns = inspector.get_columns('salaries')\n",
    "for c in columns:\n",
    "    print(c['name'], c[\"type\"])"
   ]
  },
  {
   "cell_type": "code",
   "execution_count": 70,
   "metadata": {},
   "outputs": [
    {
     "name": "stdout",
     "output_type": "stream",
     "text": [
      "emp_no BIGINT\n",
      "title VARCHAR(30)\n",
      "from_date DATE\n",
      "to_date DATE\n"
     ]
    }
   ],
   "source": [
    "# Use Inspector to print the column names and types\n",
    "columns = inspector.get_columns('titles')\n",
    "for c in columns:\n",
    "    print(c['name'], c[\"type\"])"
   ]
  },
  {
   "cell_type": "code",
   "execution_count": 74,
   "metadata": {},
   "outputs": [
    {
     "data": {
      "text/plain": [
       "[('Senior Staff', Decimal('58503')),\n",
       " ('Staff', Decimal('58465')),\n",
       " ('Manager', Decimal('51531')),\n",
       " ('Technique Leader', Decimal('48581')),\n",
       " ('Engineer', Decimal('48540')),\n",
       " ('Senior Engineer', Decimal('48507')),\n",
       " ('Assistant Engineer', Decimal('48493'))]"
      ]
     },
     "execution_count": 74,
     "metadata": {},
     "output_type": "execute_result"
    }
   ],
   "source": [
    "# Use `engine.execute` to select and display the average salaries by title\n",
    "result_salary_title = engine.execute('SELECT titles.title, ROUND(AVG(salaries.salary),0) FROM salaries \\\n",
    "JOIN titles ON (salaries.emp_no=titles.emp_no) GROUP BY titles.title \\\n",
    "ORDER BY AVG(salaries.salary) DESC').fetchall()\n",
    "result_salary_title"
   ]
  },
  {
   "cell_type": "code",
   "execution_count": 85,
   "metadata": {},
   "outputs": [
    {
     "name": "stdout",
     "output_type": "stream",
     "text": [
      "['Senior Staff', 'Staff', 'Manager', 'Technique Leader', 'Engineer', 'Senior Engineer', 'Assistant Engineer']\n",
      "[58503, 58465, 51531, 48581, 48540, 48507, 48493]\n"
     ]
    }
   ],
   "source": [
    "title = [result[0] for result in result_salary_title]\n",
    "average_salary = [int(result[1]) for result in result_salary_title]\n",
    "print(title)\n",
    "print(average_salary)"
   ]
  },
  {
   "cell_type": "code",
   "execution_count": 99,
   "metadata": {},
   "outputs": [
    {
     "data": {
      "image/png": "[encoded data removed]",
      "text/plain": [
       "<Figure size 576x396 with 1 Axes>"
      ]
     },
     "metadata": {},
     "output_type": "display_data"
    }
   ],
   "source": [
    "# Create a horizontal bar chart and plot the title on the y-axis and the average salary on the x-axis\n",
    "fig, ax = pyplot.subplots()\n",
    "ypos = range(1, len(average_salary)+1)\n",
    "ax.barh(ypos, average_salary[::-1])\n",
    "ax.set_xlabel(\"average_salary\")\n",
    "ax.set_ylabel(\"title\")\n",
    "ax.set_yticks(ypos)\n",
    "ax.set_yticklabels(title[::-1])\n",
    "ax.set_title(\"Average Salary by Title\")\n",
    "fig.tight_layout()\n",
    "pyplot.show()\n"
   ]
  },
  {
   "cell_type": "markdown",
   "metadata": {},
   "source": [
    "# This bar graph raises suspicions that this is a fake data set.\n",
    "We would not expect assistant engineers, engineers, and senior engineers to all make the same average salary. It implies there is no pay increase with a promotion. The same is true of staff and senior staff, and it would be strange for staff to make more money than the manager and more money than the engineers. A \"technique leader\" is a position I have never heard of in a company."
   ]
  },
  {
   "cell_type": "markdown",
   "metadata": {},
   "source": [
    "I also saw that the employee id the manager mentioned is for April Foolsday!"
   ]
  },
  {
   "cell_type": "code",
   "execution_count": null,
   "metadata": {},
   "outputs": [],
   "source": []
  }
 ],
 "metadata": {
  "kernelspec": {
   "display_name": "Python 3",
   "language": "python",
   "name": "python3"
  },
  "language_info": {
   "codemirror_mode": {
    "name": "ipython",
    "version": 3
   },
   "file_extension": ".py",
   "mimetype": "text/x-python",
   "name": "python",
   "nbconvert_exporter": "python",
   "pygments_lexer": "ipython3",
   "version": "3.7.3"
  }
 },
 "nbformat": 4,
 "nbformat_minor": 2
}
