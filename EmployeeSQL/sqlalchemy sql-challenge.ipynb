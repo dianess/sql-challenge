{
 "cells": [
  {
   "cell_type": "markdown",
   "metadata": {},
   "source": [
<<<<<<< HEAD
    "# Using sqlalchemy for the bonus questions in sql-challenge\n",
    "      by Diane Scherpereel     October 2019"
=======
    "# Using sqlalchemy for one bonus question \n",
    "# in sql-challenge"
>>>>>>> 20276346ef4b4d717b6fe1a216e67e116e036774
   ]
  },
  {
   "cell_type": "code",
<<<<<<< HEAD
   "execution_count": 2,
=======
   "execution_count": 92,
>>>>>>> 20276346ef4b4d717b6fe1a216e67e116e036774
   "metadata": {},
   "outputs": [
    {
     "data": {
      "text/plain": [
       "'1.3.1'"
      ]
     },
<<<<<<< HEAD
     "execution_count": 2,
=======
     "execution_count": 92,
>>>>>>> 20276346ef4b4d717b6fe1a216e67e116e036774
     "metadata": {},
     "output_type": "execute_result"
    }
   ],
   "source": [
    "# Check that sqlalchemy is installed and which version is on this computer\n",
    "import sqlalchemy\n",
    "sqlalchemy.__version__"
   ]
  },
  {
   "cell_type": "code",
<<<<<<< HEAD
   "execution_count": 3,
=======
   "execution_count": 98,
>>>>>>> 20276346ef4b4d717b6fe1a216e67e116e036774
   "metadata": {},
   "outputs": [],
   "source": [
    "# Import Matplot lib\n",
    "import matplotlib\n",
    "import matplotlib.pyplot as pyplot\n",
    "from matplotlib import style\n",
    "style.use('seaborn')\n",
    "\n",
    "# OtherDependencies\n",
    "import numpy as np\n",
    "import pandas as pd\n",
    "import psycopg2\n",
    "from sqlalchemy import create_engine, inspect, func\n",
    "from sqlalchemy.ext.automap import automap_base\n",
    "from sqlalchemy.orm import Session"
   ]
  },
  {
   "cell_type": "code",
<<<<<<< HEAD
   "execution_count": 4,
=======
   "execution_count": 94,
>>>>>>> 20276346ef4b4d717b6fe1a216e67e116e036774
   "metadata": {},
   "outputs": [
    {
     "data": {
      "text/plain": [
       "'2.8.3 (dt dec pq3 ext lo64)'"
      ]
     },
<<<<<<< HEAD
     "execution_count": 4,
=======
     "execution_count": 94,
>>>>>>> 20276346ef4b4d717b6fe1a216e67e116e036774
     "metadata": {},
     "output_type": "execute_result"
    }
   ],
   "source": [
    "# Check that psychopg2 is installed and which version is on this computer\n",
    "psycopg2.__version__"
   ]
  },
  {
   "cell_type": "code",
<<<<<<< HEAD
   "execution_count": 6,
=======
   "execution_count": 104,
>>>>>>> 20276346ef4b4d717b6fe1a216e67e116e036774
   "metadata": {},
   "outputs": [],
   "source": [
    "from config import user_password"
   ]
  },
  {
   "cell_type": "code",
<<<<<<< HEAD
   "execution_count": 8,
=======
   "execution_count": 64,
>>>>>>> 20276346ef4b4d717b6fe1a216e67e116e036774
   "metadata": {},
   "outputs": [],
   "source": [
    "# Create an engine for the 'EmployeeSQL' database\n",
    "engine = create_engine('postgresql://' + user_password + '@localhost:5432/EmployeeSQL')"
   ]
  },
  {
   "cell_type": "code",
<<<<<<< HEAD
   "execution_count": 9,
=======
   "execution_count": 65,
>>>>>>> 20276346ef4b4d717b6fe1a216e67e116e036774
   "metadata": {},
   "outputs": [],
   "source": [
    "# Create a connection\n",
    "connection = engine.connect()"
   ]
  },
  {
   "cell_type": "code",
   "execution_count": 66,
   "metadata": {},
   "outputs": [
    {
     "data": {
      "text/plain": [
       "['employees',\n",
       " 'dept_manager',\n",
       " 'salaries',\n",
       " 'titles',\n",
       " 'departments',\n",
       " 'dept_emp',\n",
       " 'customer']"
      ]
     },
     "execution_count": 66,
     "metadata": {},
     "output_type": "execute_result"
    }
   ],
   "source": [
    "# Use the Inspector to explore the database and print the table names\n",
    "inspector = inspect(engine)\n",
    "inspector.get_table_names()"
   ]
  },
  {
   "cell_type": "code",
   "execution_count": 69,
   "metadata": {},
   "outputs": [
    {
     "name": "stdout",
     "output_type": "stream",
     "text": [
      "emp_no BIGINT\n",
      "salary BIGINT\n",
      "from_date DATE\n",
      "to_date DATE\n"
     ]
    }
   ],
   "source": [
    "# Use Inspector to print the column names and types\n",
    "columns = inspector.get_columns('salaries')\n",
    "for c in columns:\n",
    "    print(c['name'], c[\"type\"])"
   ]
  },
  {
   "cell_type": "code",
   "execution_count": 70,
   "metadata": {},
   "outputs": [
    {
     "name": "stdout",
     "output_type": "stream",
     "text": [
      "emp_no BIGINT\n",
      "title VARCHAR(30)\n",
      "from_date DATE\n",
      "to_date DATE\n"
     ]
    }
   ],
   "source": [
    "# Use Inspector to print the column names and types\n",
    "columns = inspector.get_columns('titles')\n",
    "for c in columns:\n",
    "    print(c['name'], c[\"type\"])"
   ]
  },
  {
<<<<<<< HEAD
   "cell_type": "markdown",
   "metadata": {},
   "source": [
    "# Create a bar graph to show the average salary by title"
   ]
  },
  {
=======
>>>>>>> 20276346ef4b4d717b6fe1a216e67e116e036774
   "cell_type": "code",
   "execution_count": 74,
   "metadata": {},
   "outputs": [
    {
     "data": {
      "text/plain": [
       "[('Senior Staff', Decimal('58503')),\n",
       " ('Staff', Decimal('58465')),\n",
       " ('Manager', Decimal('51531')),\n",
       " ('Technique Leader', Decimal('48581')),\n",
       " ('Engineer', Decimal('48540')),\n",
       " ('Senior Engineer', Decimal('48507')),\n",
       " ('Assistant Engineer', Decimal('48493'))]"
      ]
     },
     "execution_count": 74,
     "metadata": {},
     "output_type": "execute_result"
    }
   ],
   "source": [
    "# Use `engine.execute` to select and display the average salaries by title\n",
    "result_salary_title = engine.execute('SELECT titles.title, ROUND(AVG(salaries.salary),0) FROM salaries \\\n",
    "JOIN titles ON (salaries.emp_no=titles.emp_no) GROUP BY titles.title \\\n",
    "ORDER BY AVG(salaries.salary) DESC').fetchall()\n",
    "result_salary_title"
   ]
  },
  {
   "cell_type": "code",
   "execution_count": 85,
   "metadata": {},
   "outputs": [
    {
     "name": "stdout",
     "output_type": "stream",
     "text": [
      "['Senior Staff', 'Staff', 'Manager', 'Technique Leader', 'Engineer', 'Senior Engineer', 'Assistant Engineer']\n",
      "[58503, 58465, 51531, 48581, 48540, 48507, 48493]\n"
     ]
    }
   ],
   "source": [
    "title = [result[0] for result in result_salary_title]\n",
    "average_salary = [int(result[1]) for result in result_salary_title]\n",
    "print(title)\n",
    "print(average_salary)"
   ]
  },
  {
   "cell_type": "code",
   "execution_count": 99,
   "metadata": {},
   "outputs": [
    {
     "data": {
      "image/png": "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\n",
      "text/plain": [
       "<Figure size 576x396 with 1 Axes>"
      ]
     },
     "metadata": {},
     "output_type": "display_data"
    }
   ],
   "source": [
    "# Create a horizontal bar chart and plot the title on the y-axis and the average salary on the x-axis\n",
    "fig, ax = pyplot.subplots()\n",
    "ypos = range(1, len(average_salary)+1)\n",
    "ax.barh(ypos, average_salary[::-1])\n",
    "ax.set_xlabel(\"average_salary\")\n",
    "ax.set_ylabel(\"title\")\n",
    "ax.set_yticks(ypos)\n",
    "ax.set_yticklabels(title[::-1])\n",
    "ax.set_title(\"Average Salary by Title\")\n",
    "fig.tight_layout()\n",
    "pyplot.show()\n"
   ]
  },
  {
   "cell_type": "markdown",
   "metadata": {},
   "source": [
    "# This bar graph raises suspicions that this is a fake data set.\n",
    "We would not expect assistant engineers, engineers, and senior engineers to all make the same average salary. It implies there is no pay increase with a promotion. The same is true of staff and senior staff, and it would be strange for staff to make more money than the manager and more money than the engineers. A \"technique leader\" is a position I have never heard of in a company."
   ]
  },
  {
   "cell_type": "markdown",
   "metadata": {},
   "source": [
<<<<<<< HEAD
    "# Create a histogram to show the most common salaries"
   ]
  },
  {
   "cell_type": "code",
   "execution_count": 19,
   "metadata": {},
   "outputs": [
    {
     "data": {
      "text/html": [
       "<div>\n",
       "<style scoped>\n",
       "    .dataframe tbody tr th:only-of-type {\n",
       "        vertical-align: middle;\n",
       "    }\n",
       "\n",
       "    .dataframe tbody tr th {\n",
       "        vertical-align: top;\n",
       "    }\n",
       "\n",
       "    .dataframe thead th {\n",
       "        text-align: right;\n",
       "    }\n",
       "</style>\n",
       "<table border=\"1\" class=\"dataframe\">\n",
       "  <thead>\n",
       "    <tr style=\"text-align: right;\">\n",
       "      <th></th>\n",
       "      <th>salary</th>\n",
       "    </tr>\n",
       "  </thead>\n",
       "  <tbody>\n",
       "    <tr>\n",
       "      <th>0</th>\n",
       "      <td>60117</td>\n",
       "    </tr>\n",
       "    <tr>\n",
       "      <th>1</th>\n",
       "      <td>65828</td>\n",
       "    </tr>\n",
       "    <tr>\n",
       "      <th>2</th>\n",
       "      <td>40006</td>\n",
       "    </tr>\n",
       "    <tr>\n",
       "      <th>3</th>\n",
       "      <td>40054</td>\n",
       "    </tr>\n",
       "    <tr>\n",
       "      <th>4</th>\n",
       "      <td>78228</td>\n",
       "    </tr>\n",
       "  </tbody>\n",
       "</table>\n",
       "</div>"
      ],
      "text/plain": [
       "   salary\n",
       "0   60117\n",
       "1   65828\n",
       "2   40006\n",
       "3   40054\n",
       "4   78228"
      ]
     },
     "execution_count": 19,
     "metadata": {},
     "output_type": "execute_result"
    }
   ],
   "source": [
    "# Query the salaries to then create a histogram\n",
    "salaries = pd.read_sql(\"SELECT salaries.salary FROM salaries\", connection)\n",
    "salaries.head()"
   ]
  },
  {
   "cell_type": "code",
   "execution_count": 20,
   "metadata": {},
   "outputs": [
    {
     "data": {
      "text/plain": [
       "array([[<matplotlib.axes._subplots.AxesSubplot object at 0x11ffa0978>]],\n",
       "      dtype=object)"
      ]
     },
     "execution_count": 20,
     "metadata": {},
     "output_type": "execute_result"
    },
    {
     "data": {
      "image/png": "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\n",
      "text/plain": [
       "<Figure size 432x288 with 1 Axes>"
      ]
     },
     "metadata": {
      "needs_background": "light"
     },
     "output_type": "display_data"
    }
   ],
   "source": [
    "# Plot the results as a histogram\n",
    "salaries.hist()"
   ]
  },
  {
   "cell_type": "markdown",
   "metadata": {},
   "source": [
    "# Wow, a lot of people have salaries in the 40,000 dollar range!"
   ]
  },
  {
   "cell_type": "markdown",
   "metadata": {},
   "source": [
=======
>>>>>>> 20276346ef4b4d717b6fe1a216e67e116e036774
    "# I also saw that the employee id the manager mentioned is for April Foolsday!"
   ]
  },
  {
   "cell_type": "code",
   "execution_count": null,
   "metadata": {},
   "outputs": [],
   "source": []
  }
 ],
 "metadata": {
  "kernelspec": {
   "display_name": "Python 3",
   "language": "python",
   "name": "python3"
  },
  "language_info": {
   "codemirror_mode": {
    "name": "ipython",
    "version": 3
   },
   "file_extension": ".py",
   "mimetype": "text/x-python",
   "name": "python",
   "nbconvert_exporter": "python",
   "pygments_lexer": "ipython3",
   "version": "3.7.3"
  }
 },
 "nbformat": 4,
 "nbformat_minor": 2
}
